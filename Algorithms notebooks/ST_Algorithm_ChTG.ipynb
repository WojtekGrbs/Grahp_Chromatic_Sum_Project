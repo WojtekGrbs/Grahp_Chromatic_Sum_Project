{
 "cells": [
  {
   "cell_type": "markdown",
   "id": "6f58b528",
   "metadata": {},
   "source": [
    "# Algorytm w oparciu o drzewo rozpinające"
   ]
  },
  {
   "cell_type": "markdown",
   "id": "bbfa28ce",
   "metadata": {},
   "source": [
    "#### Funkcja ```ST_algorithm(matrix)``` zwraca kolorowanie i sumę"
   ]
  },
  {
   "cell_type": "markdown",
   "id": "c996da66",
   "metadata": {},
   "source": [
    "#### Funkcja ```calculate_sum(matrix)``` zwraca tylko sumę"
   ]
  },
  {
   "cell_type": "markdown",
   "id": "b0897803",
   "metadata": {},
   "source": [
    "##### Istotna uwaga: Funkcje przyjmują obiekt ```np.Array``` lub ```np.Matrix```, nie dwuwymiarową listę Pythonową"
   ]
  },
  {
   "cell_type": "code",
   "execution_count": 4,
   "id": "ec792d49",
   "metadata": {},
   "outputs": [],
   "source": [
    "import math\n",
    "import numpy as np\n",
    "import pandas as pd\n",
    "from collections import deque\n",
    "import sys\n",
    "import networkx as nx\n",
    "import copy\n",
    "import random\n",
    "import json\n",
    "import matplotlib.pyplot as plt"
   ]
  },
  {
   "cell_type": "markdown",
   "id": "1a320307",
   "metadata": {},
   "source": [
    "## Funkcje pomocnicze"
   ]
  },
  {
   "cell_type": "code",
   "execution_count": 5,
   "id": "22a03fad",
   "metadata": {},
   "outputs": [],
   "source": [
    "# Losowa macierz sąsiedztwa\n",
    "def generate_random_adjacency_matrix(num_nodes, edge_probability):\n",
    "    matrix = np.zeros((num_nodes, num_nodes), dtype=int)\n",
    "    for i in range(num_nodes):\n",
    "        for j in range(i + 1, num_nodes):\n",
    "            r = np.random.rand()\n",
    "            if r <= edge_probability:\n",
    "                matrix[i][j] = 1\n",
    "                matrix[j][i] = 1\n",
    "\n",
    "    return np.asmatrix(matrix)"
   ]
  },
  {
   "cell_type": "code",
   "execution_count": 6,
   "id": "02342b66",
   "metadata": {},
   "outputs": [],
   "source": [
    "# Sprawdzenie czy dane kolorowanie jest poprawne\n",
    "# Przyjmuje kolorwanie jako słownik i macierz sąsiedztwa grafu\n",
    "def is_correct_vertex_coloring(vertex_coloring, adjacency_matrix):\n",
    "    # Iterujemy po wierzchołkach\n",
    "    for vertex, color in vertex_coloring.items():\n",
    "        # Lista sąsiadów\n",
    "        neighbors = [i for i, value in enumerate(adjacency_matrix[vertex]) if value == 1]\n",
    "        for neighbor in neighbors:\n",
    "            # Jeżeli kolor jest zajęty\n",
    "            if vertex_coloring[neighbor] == color:\n",
    "                return False\n",
    "    return True"
   ]
  },
  {
   "cell_type": "code",
   "execution_count": 7,
   "id": "b638bd9f",
   "metadata": {},
   "outputs": [],
   "source": [
    "# Konstrukcja listy sąsiadów\n",
    "def construct_neighbor_list(graph, v):\n",
    "    list = []\n",
    "    for i in range(len(graph)):\n",
    "        if graph[v][i] == 1:\n",
    "            list.append(i)\n",
    "    return list\n",
    "\n",
    "\n",
    "# Konstrukcja listy kolorów\n",
    "def neighb_colors(coloring, neighb):\n",
    "    neighb = set(neighb)\n",
    "\n",
    "    colors_list = list(map(lambda key: coloring[key], neighb))\n",
    "\n",
    "    return colors_list"
   ]
  },
  {
   "cell_type": "markdown",
   "id": "40dead26",
   "metadata": {},
   "source": [
    "## Kolejne etapy algorytmu"
   ]
  },
  {
   "cell_type": "markdown",
   "id": "04643d01",
   "metadata": {},
   "source": [
    "#### Znalezienie sumy chromatycznej drzewa"
   ]
  },
  {
   "cell_type": "code",
   "execution_count": 8,
   "id": "53b9ba2c",
   "metadata": {},
   "outputs": [],
   "source": [
    "# Przyjmuje obiekt grafu z biblioteki networkx\n",
    "def optimal_tree_coloring(tree):\n",
    "\n",
    "    # Slowniki {Nr wierzcholka: wartosc}\n",
    "    # Wierzcholki chcemy numerowac od 1, dlatego i+1\n",
    "    rcolor_dict = {i+1: None for i in range(tree.number_of_nodes())}\n",
    "    delta_dict = {i+1: None for i in range(tree.number_of_nodes())}\n",
    "    ncolor_dict = {i+1: None for i in range(tree.number_of_nodes())}\n",
    "    minsum_dict = {i+1: None for i in range(tree.number_of_nodes())}\n",
    "\n",
    "    # Tworzymy słownik rodzicow {Wierzchołek: Lista jego dzieci}\n",
    "    sons_dict_beta = nx.dfs_successors(tree)\n",
    "    sons_dict = {}\n",
    "\n",
    "    # Zwiększamy wartość każdego klucza (zeby pierwszy wierzcholek mial nr 1, nie 0 itd)\n",
    "    for key in sons_dict_beta:\n",
    "        new_key = key + 1\n",
    "        sons_dict[new_key] = sons_dict_beta[key]\n",
    "\n",
    "    # To samo z lista dzieci\n",
    "    for key in sons_dict:\n",
    "        for k in range(len(sons_dict[key])):\n",
    "            sons_dict[key][k] += 1\n",
    "\n",
    "    coloradd = [None for _ in range(9999)]\n",
    "\n",
    "    #print(sons_dict)\n",
    "\n",
    "    # Chcemy preorder\n",
    "    preorder_nodes = list(nx.dfs_preorder_nodes(tree))\n",
    "\n",
    "    # Odwracamy, przez co zawsze odwiedzimy najpierw dzieci danego wierzcholka\n",
    "    # Przed nim samym\n",
    "    preorder_nodes.reverse()\n",
    "\n",
    "    color1 = None\n",
    "    color2 = None\n",
    "\n",
    "    for k in preorder_nodes:\n",
    "\n",
    "        # operujemy na indeksach zwiekszonych o 1\n",
    "        i = k+1\n",
    "\n",
    "        # TREE[I].NOSONS = 0 równowazne z tym, ze nie ma ich w slowniku rodzicow\n",
    "        if i not in sons_dict:\n",
    "            minsum_dict[i] = 1\n",
    "            rcolor_dict[i] = 1\n",
    "            delta_dict[i] = 1\n",
    "            ncolor_dict[i] = 2\n",
    "\n",
    "        else:\n",
    "            # p - iterator po kolejnych dzieciach wierzcholka i\n",
    "            p = 0\n",
    "            son = sons_dict[i][p]\n",
    "            mintotal = 0\n",
    "\n",
    "            for j in range(1, len(sons_dict[i]) + 2 + 1):  # chcemy ostatnia wartosc wlacznie, wiec dodajemy 1\n",
    "                coloradd[j] = j\n",
    "\n",
    "            for j in range(1, len(sons_dict[i]) + 1):\n",
    "\n",
    "                mintotal = mintotal + minsum_dict[son]\n",
    "                coloradd[rcolor_dict[son]] += delta_dict[son]\n",
    "\n",
    "                # SON = TREE[SON].BROTHER\n",
    "                if not j == len(sons_dict[i]):\n",
    "                    p += 1\n",
    "                    son = sons_dict[i][p]\n",
    "\n",
    "            sum1 = float('inf')\n",
    "            sum2 = float('inf')\n",
    "\n",
    "            # Ta deklaracja nie jest konieczna\n",
    "            color1 = None\n",
    "            color2 = None\n",
    "\n",
    "            for j in range(1, len(sons_dict[i]) + 2 + 1):\n",
    "                value = coloradd[j]\n",
    "                if value < sum1:\n",
    "                    color2 = color1\n",
    "                    sum2 = sum1\n",
    "                    color1 = j\n",
    "                    sum1 = value\n",
    "                else:\n",
    "                    if value < sum2:\n",
    "                        color2 = j\n",
    "                        sum2 = value\n",
    "\n",
    "            minsum_dict[i] = sum1 + mintotal\n",
    "            rcolor_dict[i] = color1\n",
    "            delta_dict[i] = sum2 - sum1\n",
    "            ncolor_dict[i] = color2\n",
    "    \n",
    "    # minsum pierwszego wierzchołka - oczywiscie dodajemy 1\n",
    "    return minsum_dict[preorder_nodes[-1] + 1]"
   ]
  },
  {
   "cell_type": "markdown",
   "id": "42cd3b01",
   "metadata": {},
   "source": [
    "#### Etap znajdowania kolorowania drzewa"
   ]
  },
  {
   "cell_type": "code",
   "execution_count": 9,
   "id": "5e73e7f9",
   "metadata": {},
   "outputs": [],
   "source": [
    "# Bruteforce wykorzystujący backtracking\n",
    "# Szuka najlepszego kolorowania używając num_colors kolorów\n",
    "def color_tree(adjacency_matrix, num_colors):\n",
    "\n",
    "    num_vertices = len(adjacency_matrix)\n",
    "\n",
    "    colors = [i+1 for i in range(num_colors+1)]\n",
    "\n",
    "    colored_vertices = {}\n",
    "\n",
    "    # Sprawdzamy czy kolorowanie wierzchołka na dany kolor jest poprawne\n",
    "    def is_valid(vertex, color):\n",
    "        for neighbor in range(num_vertices):\n",
    "            if adjacency_matrix[vertex][neighbor] == 1 and neighbor in colored_vertices and colored_vertices[neighbor] == color:\n",
    "                return False\n",
    "        return True\n",
    "\n",
    "\n",
    "    def backtrack(vertex):\n",
    "        if vertex == num_vertices:\n",
    "            return True\n",
    "\n",
    "        for color in colors:\n",
    "            # Jeżeli można pokolorwać, to kolorujemy\n",
    "            if is_valid(vertex, color):\n",
    "                colored_vertices[vertex] = color\n",
    "                if backtrack(vertex + 1):\n",
    "                    return True\n",
    "                del colored_vertices[vertex]\n",
    "\n",
    "        return False\n",
    "\n",
    "    # Zaczynamy od wierzchołka 0\n",
    "    if backtrack(0):\n",
    "        return colored_vertices\n",
    "    else:\n",
    "        return None\n",
    "\n",
    "# Wykorzystanie wcześniejszej funkcji by zbadać najlepsze kolorowanie\n",
    "# używając ustalonej maksymalnej liczby kolorów\n",
    "# num_colorings - liczba iteracji (prób kolorowań)\n",
    "# tolerance - tolerancja w oparciu o sumę chromatyczną\n",
    "def color_tree_multiple(adjacency_matrix, num_colors, num_colorings, tolerance):\n",
    "\n",
    "    best_sum = float('inf')\n",
    "    best_coloring = {}\n",
    "\n",
    "    for _ in range(num_colorings):\n",
    "\n",
    "        # Kolorujemy w pewien sposób drzewo wykorzystując num_colors kolorów\n",
    "        coloring = color_tree(adjacency_matrix, num_colors)\n",
    "        temp_sum = sum(coloring.values())\n",
    "\n",
    "        # Jeżeli jest wystarczająco dobre\n",
    "        if temp_sum <= tolerance:\n",
    "            return coloring\n",
    "\n",
    "        # Jeżeli jest lepsze niż jakiekolwiek dotychczas\n",
    "        if temp_sum < best_sum:\n",
    "            best_coloring = coloring\n",
    "            best_sum = temp_sum\n",
    "    return best_coloring"
   ]
  },
  {
   "cell_type": "markdown",
   "id": "659d4643",
   "metadata": {},
   "source": [
    "#### Etap dodawania krawędzi do drzewa rozpinającego"
   ]
  },
  {
   "cell_type": "code",
   "execution_count": 10,
   "id": "42407c56",
   "metadata": {},
   "outputs": [],
   "source": [
    "# tree - drzewo rozpinające (m. sąsiedztwa)\n",
    "# graph - graf docelowy (m. sąsiedztwa)\n",
    "# tree_coloring - słownik kolorowania tree\n",
    "def add_edges(tree, graph, tree_coloring):\n",
    "\n",
    "    coloring = tree_coloring.copy()\n",
    "\n",
    "    # [graph - tree] to wymagane krawędzie - macierz edges\n",
    "    edges = graph - tree\n",
    "\n",
    "    # Zamiana na listy\n",
    "    tree = tree.tolist()\n",
    "    graph = graph.tolist()\n",
    "    edges = edges.tolist()\n",
    "    constr_graph = tree\n",
    "    # Bierzemy krawędź (a,b) (tam gdzie edges == 1)\n",
    "\n",
    "    for i in range(len(graph)):\n",
    "        for j in range(len(graph)):\n",
    "            if edges[i][j] == 1:\n",
    "\n",
    "                # Zmieniamy, jeżeli psulibysmy kolorowanie\n",
    "                if coloring[i] == coloring[j]:\n",
    "                    \n",
    "                    # Listy sąsiadów\n",
    "                    neighb_i = construct_neighbor_list(constr_graph, i)\n",
    "                    neighb_j = construct_neighbor_list(constr_graph, j)\n",
    "\n",
    "                    # Lista kolorów sąsiadów\n",
    "                    neighb_col_i = neighb_colors(coloring, neighb_i)\n",
    "                    neighb_col_j = neighb_colors(coloring, neighb_j)\n",
    "\n",
    "\n",
    "                    # Najmniejsze możliwe kolorowania\n",
    "                    min_possible_i = max(neighb_col_i) + 1\n",
    "\n",
    "                    for p in range(max(neighb_col_i) + 1):\n",
    "                        if (p + 1) not in neighb_col_i:\n",
    "                            min_possible_i = p + 1\n",
    "                            break\n",
    "\n",
    "                    min_possible_j = max(neighb_col_j) + 1\n",
    "\n",
    "                    for p in range(max(neighb_col_j)+1):\n",
    "                        if p + 1 not in neighb_col_j:\n",
    "                            min_possible_j = p + 1\n",
    "                            break\n",
    "                            \n",
    "                    # Docelowo zawsze zmieniamy i\n",
    "                    # Jeżeli potrzeba to zamieniamy wartości\n",
    "                    if min_possible_j < min_possible_i:\n",
    "                        i, j = j, i\n",
    "                        min_possible_i, min_possible_j = min_possible_j, min_possible_i\n",
    "                        neighb_col_i, neighb_col_j = neighb_col_j, neighb_col_i\n",
    "\n",
    "                    if coloring[i] == min_possible_i:\n",
    "                        while True:\n",
    "                            min_possible_i += 1\n",
    "                            if min_possible_i not in neighb_col_i:\n",
    "                                coloring[i] = min_possible_i\n",
    "                                break\n",
    "                            if min_possible_i not in neighb_col_j:\n",
    "                                coloring[j] = min_possible_i\n",
    "                                break\n",
    "                    else:\n",
    "                        # Update coloringu\n",
    "                        coloring[i] = min_possible_i\n",
    "\n",
    "            # Aktualizacja macierzy\n",
    "            edges[i][j], edges[j][i] = 0, 0\n",
    "            constr_graph[i][j], constr_graph[j][i] = 1, 1\n",
    "    return constr_graph, coloring"
   ]
  },
  {
   "cell_type": "markdown",
   "id": "c4db8b7b",
   "metadata": {},
   "source": [
    "#### Etap poprawiania liści"
   ]
  },
  {
   "cell_type": "code",
   "execution_count": 11,
   "id": "79a05a7a",
   "metadata": {},
   "outputs": [],
   "source": [
    "def correct_leaves(graph, coloring):\n",
    "\n",
    "    index = 0\n",
    "    coloring_res = coloring.copy()\n",
    "    for i in range(len(graph)):\n",
    "\n",
    "        # Znalezienie stopnia 1\n",
    "        if sum(graph[i]) == 1:\n",
    "\n",
    "            # Sprawdzenie kto jest jego jedynym sąsiadem\n",
    "            for j in range(len(graph[i])):\n",
    "                if graph[i][j] == 1:\n",
    "                    index = j\n",
    "                    break\n",
    "\n",
    "            # Docelowo chcemy zamienic liscie na 1, ale\n",
    "            # gdy sasiaduje juz z 1 to musimy na 2\n",
    "            if coloring_res[index] == 1:\n",
    "                coloring_res[i] = 2\n",
    "            else:\n",
    "                coloring_res[i] = 1\n",
    "\n",
    "    return coloring_res"
   ]
  },
  {
   "cell_type": "code",
   "execution_count": 18,
   "id": "9a0792d3",
   "metadata": {},
   "outputs": [],
   "source": [
    "def ST_algorithm(matrix):\n",
    "    \n",
    "    graph = nx.from_numpy_array(matrix)\n",
    "    tree = nx.minimum_spanning_tree(graph)\n",
    "    \n",
    "    # Suma chromatyczna drzewa\n",
    "    coloring = optimal_tree_coloring(tree)\n",
    "    \n",
    "    tolerance = 1.1 * coloring\n",
    "    \n",
    "    #Najmniejsza znaleziona suma kolorów\n",
    "    min_suma = float('inf')\n",
    "    best_coloring = {}\n",
    "\n",
    "    # k to dopuszczalna liczba iteracji bruteforce\n",
    "    k = 4000\n",
    "\n",
    "    # i to numer koloru\n",
    "    # Szukanie \n",
    "    for i in range(2, 6):\n",
    "        bruteforce = color_tree_multiple(nx.to_numpy_array(tree), i, k, tolerance)\n",
    "        suma = sum(bruteforce.values())\n",
    "        if suma < min_suma:\n",
    "            best_coloring = bruteforce\n",
    "            min_suma = suma\n",
    "\n",
    "    tree_adj = nx.to_numpy_array(tree)\n",
    "\n",
    "    # Etap dodawania krawędzi\n",
    "    end_graph, end_coloring = add_edges(tree_adj, matrix, best_coloring)\n",
    "\n",
    "    # Poprawianie liści\n",
    "    end_coloring = correct_leaves(end_graph, end_coloring)\n",
    "\n",
    "           # Kolorowanie, wyznaczona suma kolorów\n",
    "    return end_coloring, sum(end_coloring.values())"
   ]
  },
  {
   "cell_type": "code",
   "execution_count": 19,
   "id": "8afbeea4",
   "metadata": {},
   "outputs": [],
   "source": [
    "def calculate_sum(matrix):\n",
    "\n",
    "    coloring, sum = ST_algorithm(matrix)\n",
    "\n",
    "    return sum"
   ]
  },
  {
   "cell_type": "code",
   "execution_count": 45,
   "id": "495035b1",
   "metadata": {},
   "outputs": [],
   "source": [
    "matrix = generate_random_adjacency_matrix(15, 0.8)\n",
    "coloring, suma = ST_algorithm(matrix)"
   ]
  },
  {
   "cell_type": "code",
   "execution_count": 46,
   "id": "f6315e6c",
   "metadata": {},
   "outputs": [
    {
     "data": {
      "text/plain": [
       "True"
      ]
     },
     "execution_count": 46,
     "metadata": {},
     "output_type": "execute_result"
    }
   ],
   "source": [
    "is_correct_vertex_coloring(coloring, matrix.tolist())"
   ]
  },
  {
   "cell_type": "code",
   "execution_count": 49,
   "id": "678481dc",
   "metadata": {},
   "outputs": [
    {
     "data": {
      "text/plain": [
       "matrix([[0, 1, 1, 1, 1, 1, 1, 1, 1, 1, 0, 1, 1, 1, 1],\n",
       "        [1, 0, 0, 0, 1, 1, 0, 1, 1, 1, 0, 1, 1, 1, 0],\n",
       "        [1, 0, 0, 1, 1, 1, 1, 1, 0, 1, 1, 1, 0, 1, 1],\n",
       "        [1, 0, 1, 0, 1, 1, 0, 1, 1, 1, 0, 1, 1, 1, 1],\n",
       "        [1, 1, 1, 1, 0, 1, 0, 1, 1, 0, 1, 1, 1, 0, 1],\n",
       "        [1, 1, 1, 1, 1, 0, 1, 1, 1, 0, 1, 1, 1, 1, 1],\n",
       "        [1, 0, 1, 0, 0, 1, 0, 1, 1, 1, 1, 1, 1, 1, 0],\n",
       "        [1, 1, 1, 1, 1, 1, 1, 0, 1, 0, 0, 1, 1, 1, 1],\n",
       "        [1, 1, 0, 1, 1, 1, 1, 1, 0, 1, 1, 1, 0, 0, 1],\n",
       "        [1, 1, 1, 1, 0, 0, 1, 0, 1, 0, 0, 1, 1, 1, 1],\n",
       "        [0, 0, 1, 0, 1, 1, 1, 0, 1, 0, 0, 1, 1, 1, 1],\n",
       "        [1, 1, 1, 1, 1, 1, 1, 1, 1, 1, 1, 0, 1, 1, 1],\n",
       "        [1, 1, 0, 1, 1, 1, 1, 1, 0, 1, 1, 1, 0, 0, 1],\n",
       "        [1, 1, 1, 1, 0, 1, 1, 1, 0, 1, 1, 1, 0, 0, 1],\n",
       "        [1, 0, 1, 1, 1, 1, 0, 1, 1, 1, 1, 1, 1, 1, 0]])"
      ]
     },
     "execution_count": 49,
     "metadata": {},
     "output_type": "execute_result"
    }
   ],
   "source": [
    "matrix"
   ]
  },
  {
   "cell_type": "code",
   "execution_count": 47,
   "id": "33f87c12",
   "metadata": {},
   "outputs": [
    {
     "data": {
      "text/plain": [
       "{0: 1,\n",
       " 1: 2,\n",
       " 2: 3,\n",
       " 3: 2,\n",
       " 4: 4,\n",
       " 5: 5,\n",
       " 6: 2,\n",
       " 7: 6,\n",
       " 8: 3,\n",
       " 9: 7,\n",
       " 10: 1,\n",
       " 11: 8,\n",
       " 12: 9,\n",
       " 13: 10,\n",
       " 14: 11}"
      ]
     },
     "execution_count": 47,
     "metadata": {},
     "output_type": "execute_result"
    }
   ],
   "source": [
    "coloring"
   ]
  },
  {
   "cell_type": "code",
   "execution_count": 48,
   "id": "06ed314c",
   "metadata": {},
   "outputs": [
    {
     "data": {
      "text/plain": [
       "74"
      ]
     },
     "execution_count": 48,
     "metadata": {},
     "output_type": "execute_result"
    }
   ],
   "source": [
    "suma"
   ]
  }
 ],
 "metadata": {
  "kernelspec": {
   "display_name": "Python 3 (ipykernel)",
   "language": "python",
   "name": "python3"
  },
  "language_info": {
   "codemirror_mode": {
    "name": "ipython",
    "version": 3
   },
   "file_extension": ".py",
   "mimetype": "text/x-python",
   "name": "python",
   "nbconvert_exporter": "python",
   "pygments_lexer": "ipython3",
   "version": "3.8.8"
  }
 },
 "nbformat": 4,
 "nbformat_minor": 5
}
